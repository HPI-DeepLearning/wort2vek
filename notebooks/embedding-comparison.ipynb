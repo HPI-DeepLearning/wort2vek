{
 "cells": [
  {
   "cell_type": "markdown",
   "metadata": {
    "collapsed": true
   },
   "source": [
    "# Comparison of different word embedding techniques"
   ]
  },
  {
   "cell_type": "code",
   "execution_count": 1,
   "metadata": {
    "collapsed": false
   },
   "outputs": [],
   "source": [
    "import sys\n",
    "sys.path.append('../')\n",
    "import logging\n",
    "import importlib\n",
    "# importlib.reload(logging)\n",
    "# logging.basicConfig(format='%(asctime)s : %(levelname)s : %(message)s', level=logging.INFO)\n",
    "from gensim.models.word2vec import Word2Vec\n",
    "import pandas as pd\n",
    "import matplotlib.pyplot as plt\n",
    "import seaborn as sns\n",
    "%matplotlib inline"
   ]
  },
  {
   "cell_type": "code",
   "execution_count": 10,
   "metadata": {
    "collapsed": true
   },
   "outputs": [],
   "source": [
    "def load_model(path):\n",
    "    return Word2Vec.load_word2vec_format(path)\n",
    "\n",
    "sem_cats = [\n",
    "    'Politiker,Partei',\n",
    "    'Gotteshaus,Religion',\n",
    "    'Werk,Erzeuger',\n",
    "    'Wissenschaftsbereich,Berufsbezeichnung',\n",
    "    'Land,Währung',\n",
    "    'Hauptstadt,Land',\n",
    "    'Bundesland,Landeshauptstadt',\n",
    "    'Land,Kontinent',\n",
    "    'Technik - Produkte',\n",
    "    'opposite',\n",
    "    'Land,Sprache/Adjektiv'\n",
    "]\n",
    "syn_cats = [\n",
    "    'Geschlecht',\n",
    "    'signular,plural',\n",
    "    'adjectives - Positiv, Komparativ',\n",
    "    'adjectives - Positiv, Superlativ',\n",
    "    'verbs - 3.P.Sg., 1.P.Sg.',\n",
    "    'verbs - 3.P.Sg., 1.P.Pl.',\n",
    "    'verbs - 3.P.Sg., Sg.Vg.',\n",
    "    'verbs - 3.P.Sg., Pl.Vg.',\n",
    "    'verbs - 3.P.Sg., Partizip'\n",
    "]\n",
    "\n",
    "def acc(results, cats):\n",
    "    correct = sum([len(r['correct']) for r in results if r['section'] in cats])\n",
    "    incorrect = sum([len(r['incorrect']) for r in results if r['section'] in cats])\n",
    "    count = correct + incorrect\n",
    "    acc = 100 * correct / count if count != 0 else 0\n",
    "    return acc, correct, incorrect\n",
    "\n",
    "def acc_cat(results, cat):\n",
    "    return acc(results, [cat])\n",
    "\n",
    "def mean(nums):\n",
    "    return sum(nums) / len(nums)\n",
    "\n",
    "def nb_questions(questions_file):\n",
    "    count = 0\n",
    "    for _ in open(questions_file):\n",
    "        count += 1\n",
    "    return count\n",
    "\n",
    "def accuracy(path, questions_file):\n",
    "    model = load_model(path)\n",
    "    results = model.accuracy(questions_file)\n",
    "    \n",
    "    cols = []\n",
    "    all_accs = []\n",
    "    \n",
    "    for res in results:\n",
    "        name = res['section']\n",
    "        corr = len(res[\"correct\"])\n",
    "        incorr = len(res['incorrect'])\n",
    "        count = corr + incorr\n",
    "        _acc = 100 * corr / count if count != 0 else 0\n",
    "        cols.append(name)\n",
    "        all_accs.append(_acc)\n",
    "        print('{:s}: {:.2f}% ({:d}/{:d})'.format(name, _acc, corr, count))\n",
    "        \n",
    "    sem_acc, sem_corr, sem_incorr = acc(results, sem_cats)\n",
    "    syn_acc, syn_corr, syn_incorr = acc(results, syn_cats)\n",
    "    total_acc, total_corr, total_incorr = acc(results, sem_cats + syn_cats)\n",
    "    oov = (1 - (total_corr + total_incorr) / nb_questions(questions_file)) * 100\n",
    "    print(\"\")\n",
    "    print(\"oov: {:.2f}%\".format(oov))\n",
    "    print(\"\")\n",
    "    print('Semantic: {:d}/{:d}, Accuracy: {:.2f}%'.format(sem_corr, sem_corr + sem_incorr, sem_acc))\n",
    "    print('Syntactic: {:d}/{:d}, Accuracy: {:.2f}%'.format(syn_corr, syn_corr + syn_incorr, syn_acc))\n",
    "    print('Total: {:d}/{:d}, Accuracy: {:.2f}%'.format(total_corr, total_corr + total_incorr, total_acc))\n",
    "    \n",
    "    sem_accs = [acc_cat(results, r[\"section\"])[0] for r in results if r[\"section\"] in sem_cats]\n",
    "    syn_accs = [acc_cat(results, r[\"section\"])[0] for r in results if r[\"section\"] in syn_cats]\n",
    "    print(\"\")\n",
    "    print(\"Mean Accuracies:\")\n",
    "    print(\"Semantic: {:.2f}%\".format(mean(sem_accs)))\n",
    "    print(\"Syntactic: {:.2f}%\".format(mean(syn_accs)))\n",
    "    print(\"Total: {:.2f}%\".format(mean(sem_accs + syn_accs)))\n",
    "    return ['oov'] + cols + ['semantic', 'syntactic'], [oov] + all_accs + [sem_acc, syn_acc]"
   ]
  },
  {
   "cell_type": "markdown",
   "metadata": {},
   "source": [
    "## Word2Vec"
   ]
  },
  {
   "cell_type": "markdown",
   "metadata": {},
   "source": [
    "### Eval dataset"
   ]
  },
  {
   "cell_type": "code",
   "execution_count": 11,
   "metadata": {
    "collapsed": false
   },
   "outputs": [
    {
     "name": "stdout",
     "output_type": "stream",
     "text": [
      "Politiker,Partei: 0.00% (0/2)\n",
      "Gotteshaus,Religion: 0.00% (0/0)\n",
      "Werk,Erzeuger: 0.00% (0/0)\n",
      "Wissenschaftsbereich,Berufsbezeichnung: 0.00% (0/0)\n",
      "Land,Währung: 0.00% (0/6)\n",
      "Hauptstadt,Land: 0.00% (0/110)\n",
      "Bundesland,Landeshauptstadt: 0.00% (0/0)\n",
      "Land,Kontinent: 0.00% (0/2)\n",
      "Land,Sprache/Adjektiv: 0.00% (0/0)\n",
      "Technik - Produkte: 0.00% (0/6)\n",
      "Geschlecht: 0.00% (0/30)\n",
      "signular,plural: 0.11% (4/3540)\n",
      "opposite: 0.00% (0/702)\n",
      "adjectives - Positiv, Komparativ: 0.00% (0/342)\n",
      "adjectives - Positiv, Superlativ: 0.00% (0/12)\n",
      "verbs - 3.P.Sg., 1.P.Sg.: 0.00% (0/380)\n",
      "verbs - 3.P.Sg., 1.P.Pl.: 0.09% (3/3192)\n",
      "verbs - 3.P.Sg., Sg.Vg.: 0.53% (7/1332)\n",
      "verbs - 3.P.Sg., Pl.Vg.: 0.00% (0/182)\n",
      "verbs - 3.P.Sg., Partizip: 0.00% (0/992)\n",
      "total: 0.13% (14/10830)\n",
      "\n",
      "Semantic: 0/828, Accuracy: 0.00%\n",
      "Syntactic: 14/10002, Accuracy: 0.14%\n",
      "Total: 14/10830, Accuracy: 0.13%\n",
      "[0.0, 0, 0, 0, 0.0, 0.0, 0, 0.0, 0, 0.0, 0.0]\n",
      "[0.0, 0.11299435028248588, 0.0, 0.0, 0.0, 0.09398496240601503, 0.5255255255255256, 0.0, 0.0]\n",
      "\n",
      "Mean Accuracies:\n",
      "Semantic: 0.00%\n",
      "Syntactic: 0.08%\n",
      "Total: 0.04%\n"
     ]
    }
   ],
   "source": [
    "heads, w2v_eval_sampled_accs = accuracy('../../models/gensim/eval.vec', '../evaluation/question-words.txt')"
   ]
  },
  {
   "cell_type": "code",
   "execution_count": null,
   "metadata": {
    "collapsed": true
   },
   "outputs": [],
   "source": [
    "heads, w2v_eval_complete_accs = accuracy('../../models/gensim/eval.vec', '../evaluation/question-words-large.txt')"
   ]
  },
  {
   "cell_type": "markdown",
   "metadata": {},
   "source": [
    "### Leizpig dataset"
   ]
  },
  {
   "cell_type": "code",
   "execution_count": null,
   "metadata": {
    "collapsed": true
   },
   "outputs": [],
   "source": [
    "heads, w2v_leipzig_sampled_accs = accuracy('../../models/gensim/biggy.vec', '../evaluation/question-words.txt')"
   ]
  },
  {
   "cell_type": "code",
   "execution_count": null,
   "metadata": {
    "collapsed": true
   },
   "outputs": [],
   "source": [
    "heads, w2v_leipzig_complete_accs = accuracy('../../models/gensim/biggy.vec', '../evaluation/question-words-large.txt')"
   ]
  },
  {
   "cell_type": "markdown",
   "metadata": {},
   "source": [
    "## Dependency based Word Embeddings"
   ]
  },
  {
   "cell_type": "markdown",
   "metadata": {},
   "source": [
    "### Eval dataset"
   ]
  },
  {
   "cell_type": "code",
   "execution_count": null,
   "metadata": {
    "collapsed": true
   },
   "outputs": [],
   "source": [
    "_, depsbased_eval_sampled_accs = accuracy('../../models/word2vecf/eval.vec', '../evaluation/question-words.txt')"
   ]
  },
  {
   "cell_type": "code",
   "execution_count": null,
   "metadata": {
    "collapsed": true
   },
   "outputs": [],
   "source": [
    "_, depsbased_eval_complete_accs = accuracy('../../models/word2vecf/eval.vec',  '../evaluation/question-words-large.txt')"
   ]
  },
  {
   "cell_type": "markdown",
   "metadata": {},
   "source": [
    "### Leipzig dataset"
   ]
  },
  {
   "cell_type": "code",
   "execution_count": null,
   "metadata": {
    "collapsed": true
   },
   "outputs": [],
   "source": [
    "_, depsbased_eval_complete_accs = accuracy('../../models/word2vecf/eval.vec',  '../evaluation/question-words-large.txt')"
   ]
  },
  {
   "cell_type": "code",
   "execution_count": null,
   "metadata": {
    "collapsed": true
   },
   "outputs": [],
   "source": [
    "_, depsbased_leipzig_clean_sampled_accs = accuracy('../../models/word2vecf/leipzig.clean.vec',  '../evaluation/question-words.txt')"
   ]
  },
  {
   "cell_type": "code",
   "execution_count": null,
   "metadata": {
    "collapsed": true
   },
   "outputs": [],
   "source": [
    "_, depsbased_leipzig_complete_accs = accuracy('../../models/word2vecf/leipzig.vec',  '../evaluation/question-words-large.txt')"
   ]
  },
  {
   "cell_type": "code",
   "execution_count": null,
   "metadata": {
    "collapsed": true
   },
   "outputs": [],
   "source": [
    "_, depsbased_leipzig_clean_complete_accs = accuracy('../../models/word2vecf/leipzig.clean.vec',  '../evaluation/question-words-large.txt')"
   ]
  },
  {
   "cell_type": "markdown",
   "metadata": {},
   "source": [
    "## Fasttext - Enriching Word Vectors with Subword Information"
   ]
  },
  {
   "cell_type": "markdown",
   "metadata": {},
   "source": [
    "### Eval dataset"
   ]
  },
  {
   "cell_type": "code",
   "execution_count": 15,
   "metadata": {
    "collapsed": false
   },
   "outputs": [
    {
     "name": "stderr",
     "output_type": "stream",
     "text": [
      "2017-02-21 18:00:53,478 : INFO : loading projection weights from ../../fastText/leipzig-small.vec\n",
      "2017-02-21 18:00:54,505 : INFO : loaded (3942, 300) matrix from ../../fastText/leipzig-small.vec\n",
      "2017-02-21 18:00:54,510 : INFO : precomputing L2-norms of word weight vectors\n",
      "2017-02-21 18:00:54,521 : INFO : Politiker,Partei: 0.0% (0/2)\n",
      "2017-02-21 18:00:54,527 : INFO : Land,Währung: 16.7% (1/6)\n",
      "2017-02-21 18:00:54,626 : INFO : Hauptstadt,Land: 0.0% (0/110)\n",
      "2017-02-21 18:00:54,629 : INFO : Land,Kontinent: 0.0% (0/2)\n",
      "2017-02-21 18:00:54,634 : INFO : Technik - Produkte: 0.0% (0/6)\n",
      "2017-02-21 18:00:54,667 : INFO : Geschlecht: 0.0% (0/30)\n",
      "2017-02-21 18:00:56,450 : INFO : signular,plural: 2.7% (94/3540)\n",
      "2017-02-21 18:00:56,858 : INFO : opposite: 0.1% (1/702)\n",
      "2017-02-21 18:00:57,094 : INFO : adjectives - Positiv, Komparativ: 1.2% (4/342)\n",
      "2017-02-21 18:00:57,160 : INFO : adjectives - Positiv, Superlativ: 0.0% (0/12)\n",
      "2017-02-21 18:00:57,405 : INFO : verbs - 3.P.Sg., 1.P.Sg.: 1.8% (7/380)\n",
      "2017-02-21 18:00:59,168 : INFO : verbs - 3.P.Sg., 1.P.Pl.: 4.0% (129/3192)\n",
      "2017-02-21 18:00:59,920 : INFO : verbs - 3.P.Sg., Sg.Vg.: 6.3% (84/1332)\n",
      "2017-02-21 18:01:00,080 : INFO : verbs - 3.P.Sg., Pl.Vg.: 1.6% (3/182)\n",
      "2017-02-21 18:01:00,097 : INFO : skipping invalid line #81482 in ../evaluation/question-words.txt\n",
      "2017-02-21 18:01:00,101 : INFO : skipping invalid line #81561 in ../evaluation/question-words.txt\n",
      "2017-02-21 18:01:00,120 : INFO : skipping invalid line #81640 in ../evaluation/question-words.txt\n",
      "2017-02-21 18:01:00,150 : INFO : skipping invalid line #81719 in ../evaluation/question-words.txt\n",
      "2017-02-21 18:01:00,157 : INFO : skipping invalid line #81798 in ../evaluation/question-words.txt\n",
      "2017-02-21 18:01:00,159 : INFO : skipping invalid line #81877 in ../evaluation/question-words.txt\n",
      "2017-02-21 18:01:00,161 : INFO : skipping invalid line #81956 in ../evaluation/question-words.txt\n",
      "2017-02-21 18:01:00,184 : INFO : skipping invalid line #82035 in ../evaluation/question-words.txt\n",
      "2017-02-21 18:01:00,214 : INFO : skipping invalid line #82114 in ../evaluation/question-words.txt\n",
      "2017-02-21 18:01:00,248 : INFO : skipping invalid line #82193 in ../evaluation/question-words.txt\n",
      "2017-02-21 18:01:00,253 : INFO : skipping invalid line #82272 in ../evaluation/question-words.txt\n",
      "2017-02-21 18:01:00,255 : INFO : skipping invalid line #82351 in ../evaluation/question-words.txt\n",
      "2017-02-21 18:01:00,257 : INFO : skipping invalid line #82430 in ../evaluation/question-words.txt\n",
      "2017-02-21 18:01:00,292 : INFO : skipping invalid line #82509 in ../evaluation/question-words.txt\n",
      "2017-02-21 18:01:00,296 : INFO : skipping invalid line #82588 in ../evaluation/question-words.txt\n",
      "2017-02-21 18:01:00,298 : INFO : skipping invalid line #82667 in ../evaluation/question-words.txt\n",
      "2017-02-21 18:01:00,321 : INFO : skipping invalid line #82746 in ../evaluation/question-words.txt\n",
      "2017-02-21 18:01:00,326 : INFO : skipping invalid line #82825 in ../evaluation/question-words.txt\n",
      "2017-02-21 18:01:00,361 : INFO : skipping invalid line #82904 in ../evaluation/question-words.txt\n",
      "2017-02-21 18:01:00,367 : INFO : skipping invalid line #82983 in ../evaluation/question-words.txt\n",
      "2017-02-21 18:01:00,392 : INFO : skipping invalid line #83062 in ../evaluation/question-words.txt\n",
      "2017-02-21 18:01:00,399 : INFO : skipping invalid line #83141 in ../evaluation/question-words.txt\n",
      "2017-02-21 18:01:00,449 : INFO : skipping invalid line #83220 in ../evaluation/question-words.txt\n",
      "2017-02-21 18:01:00,460 : INFO : skipping invalid line #83299 in ../evaluation/question-words.txt\n",
      "2017-02-21 18:01:00,496 : INFO : skipping invalid line #83378 in ../evaluation/question-words.txt\n",
      "2017-02-21 18:01:00,501 : INFO : skipping invalid line #83457 in ../evaluation/question-words.txt\n",
      "2017-02-21 18:01:00,502 : INFO : skipping invalid line #83536 in ../evaluation/question-words.txt\n",
      "2017-02-21 18:01:00,504 : INFO : skipping invalid line #83615 in ../evaluation/question-words.txt\n",
      "2017-02-21 18:01:00,535 : INFO : skipping invalid line #83694 in ../evaluation/question-words.txt\n",
      "2017-02-21 18:01:00,544 : INFO : skipping invalid line #83773 in ../evaluation/question-words.txt\n",
      "2017-02-21 18:01:00,546 : INFO : skipping invalid line #83852 in ../evaluation/question-words.txt\n",
      "2017-02-21 18:01:00,548 : INFO : skipping invalid line #83931 in ../evaluation/question-words.txt\n",
      "2017-02-21 18:01:00,605 : INFO : skipping invalid line #84010 in ../evaluation/question-words.txt\n",
      "2017-02-21 18:01:00,614 : INFO : skipping invalid line #84089 in ../evaluation/question-words.txt\n",
      "2017-02-21 18:01:00,618 : INFO : skipping invalid line #84168 in ../evaluation/question-words.txt\n",
      "2017-02-21 18:01:00,622 : INFO : skipping invalid line #84247 in ../evaluation/question-words.txt\n",
      "2017-02-21 18:01:00,625 : INFO : skipping invalid line #84326 in ../evaluation/question-words.txt\n",
      "2017-02-21 18:01:00,701 : INFO : skipping invalid line #84405 in ../evaluation/question-words.txt\n",
      "2017-02-21 18:01:00,707 : INFO : skipping invalid line #84484 in ../evaluation/question-words.txt\n",
      "2017-02-21 18:01:00,711 : INFO : skipping invalid line #84563 in ../evaluation/question-words.txt\n",
      "2017-02-21 18:01:00,765 : INFO : skipping invalid line #84642 in ../evaluation/question-words.txt\n",
      "2017-02-21 18:01:00,786 : INFO : skipping invalid line #84721 in ../evaluation/question-words.txt\n",
      "2017-02-21 18:01:00,809 : INFO : skipping invalid line #84800 in ../evaluation/question-words.txt\n",
      "2017-02-21 18:01:00,814 : INFO : skipping invalid line #84879 in ../evaluation/question-words.txt\n",
      "2017-02-21 18:01:00,816 : INFO : skipping invalid line #84958 in ../evaluation/question-words.txt\n",
      "2017-02-21 18:01:00,819 : INFO : skipping invalid line #85037 in ../evaluation/question-words.txt\n",
      "2017-02-21 18:01:00,844 : INFO : skipping invalid line #85116 in ../evaluation/question-words.txt\n",
      "2017-02-21 18:01:00,865 : INFO : skipping invalid line #85195 in ../evaluation/question-words.txt\n",
      "2017-02-21 18:01:00,868 : INFO : skipping invalid line #85274 in ../evaluation/question-words.txt\n",
      "2017-02-21 18:01:00,884 : INFO : skipping invalid line #85353 in ../evaluation/question-words.txt\n",
      "2017-02-21 18:01:00,901 : INFO : skipping invalid line #85432 in ../evaluation/question-words.txt\n",
      "2017-02-21 18:01:00,905 : INFO : skipping invalid line #85511 in ../evaluation/question-words.txt\n",
      "2017-02-21 18:01:00,906 : INFO : skipping invalid line #85590 in ../evaluation/question-words.txt\n",
      "2017-02-21 18:01:00,908 : INFO : skipping invalid line #85669 in ../evaluation/question-words.txt\n",
      "2017-02-21 18:01:00,942 : INFO : skipping invalid line #85748 in ../evaluation/question-words.txt\n",
      "2017-02-21 18:01:00,946 : INFO : skipping invalid line #85827 in ../evaluation/question-words.txt\n",
      "2017-02-21 18:01:00,947 : INFO : skipping invalid line #85906 in ../evaluation/question-words.txt\n",
      "2017-02-21 18:01:00,965 : INFO : skipping invalid line #85985 in ../evaluation/question-words.txt\n",
      "2017-02-21 18:01:00,969 : INFO : skipping invalid line #86064 in ../evaluation/question-words.txt\n",
      "2017-02-21 18:01:00,970 : INFO : skipping invalid line #86143 in ../evaluation/question-words.txt\n",
      "2017-02-21 18:01:00,986 : INFO : skipping invalid line #86222 in ../evaluation/question-words.txt\n",
      "2017-02-21 18:01:00,990 : INFO : skipping invalid line #86301 in ../evaluation/question-words.txt\n",
      "2017-02-21 18:01:01,005 : INFO : skipping invalid line #86380 in ../evaluation/question-words.txt\n",
      "2017-02-21 18:01:01,026 : INFO : skipping invalid line #86459 in ../evaluation/question-words.txt\n",
      "2017-02-21 18:01:01,047 : INFO : skipping invalid line #86538 in ../evaluation/question-words.txt\n",
      "2017-02-21 18:01:01,051 : INFO : skipping invalid line #86553 in ../evaluation/question-words.txt\n",
      "2017-02-21 18:01:01,051 : INFO : skipping invalid line #86554 in ../evaluation/question-words.txt\n",
      "2017-02-21 18:01:01,052 : INFO : skipping invalid line #86555 in ../evaluation/question-words.txt\n",
      "2017-02-21 18:01:01,053 : INFO : skipping invalid line #86556 in ../evaluation/question-words.txt\n",
      "2017-02-21 18:01:01,053 : INFO : skipping invalid line #86557 in ../evaluation/question-words.txt\n",
      "2017-02-21 18:01:01,054 : INFO : skipping invalid line #86558 in ../evaluation/question-words.txt\n",
      "2017-02-21 18:01:01,055 : INFO : skipping invalid line #86559 in ../evaluation/question-words.txt\n",
      "2017-02-21 18:01:01,056 : INFO : skipping invalid line #86560 in ../evaluation/question-words.txt\n",
      "2017-02-21 18:01:01,056 : INFO : skipping invalid line #86561 in ../evaluation/question-words.txt\n",
      "2017-02-21 18:01:01,057 : INFO : skipping invalid line #86562 in ../evaluation/question-words.txt\n",
      "2017-02-21 18:01:01,057 : INFO : skipping invalid line #86563 in ../evaluation/question-words.txt\n",
      "2017-02-21 18:01:01,058 : INFO : skipping invalid line #86564 in ../evaluation/question-words.txt\n",
      "2017-02-21 18:01:01,058 : INFO : skipping invalid line #86565 in ../evaluation/question-words.txt\n",
      "2017-02-21 18:01:01,059 : INFO : skipping invalid line #86566 in ../evaluation/question-words.txt\n",
      "2017-02-21 18:01:01,059 : INFO : skipping invalid line #86567 in ../evaluation/question-words.txt\n",
      "2017-02-21 18:01:01,060 : INFO : skipping invalid line #86568 in ../evaluation/question-words.txt\n",
      "2017-02-21 18:01:01,060 : INFO : skipping invalid line #86569 in ../evaluation/question-words.txt\n",
      "2017-02-21 18:01:01,060 : INFO : skipping invalid line #86570 in ../evaluation/question-words.txt\n",
      "2017-02-21 18:01:01,061 : INFO : skipping invalid line #86571 in ../evaluation/question-words.txt\n",
      "2017-02-21 18:01:01,061 : INFO : skipping invalid line #86572 in ../evaluation/question-words.txt\n",
      "2017-02-21 18:01:01,062 : INFO : skipping invalid line #86573 in ../evaluation/question-words.txt\n",
      "2017-02-21 18:01:01,062 : INFO : skipping invalid line #86574 in ../evaluation/question-words.txt\n",
      "2017-02-21 18:01:01,063 : INFO : skipping invalid line #86575 in ../evaluation/question-words.txt\n",
      "2017-02-21 18:01:01,063 : INFO : skipping invalid line #86576 in ../evaluation/question-words.txt\n",
      "2017-02-21 18:01:01,064 : INFO : skipping invalid line #86577 in ../evaluation/question-words.txt\n",
      "2017-02-21 18:01:01,064 : INFO : skipping invalid line #86578 in ../evaluation/question-words.txt\n",
      "2017-02-21 18:01:01,065 : INFO : skipping invalid line #86579 in ../evaluation/question-words.txt\n",
      "2017-02-21 18:01:01,065 : INFO : skipping invalid line #86580 in ../evaluation/question-words.txt\n",
      "2017-02-21 18:01:01,066 : INFO : skipping invalid line #86581 in ../evaluation/question-words.txt\n",
      "2017-02-21 18:01:01,066 : INFO : skipping invalid line #86582 in ../evaluation/question-words.txt\n",
      "2017-02-21 18:01:01,067 : INFO : skipping invalid line #86583 in ../evaluation/question-words.txt\n",
      "2017-02-21 18:01:01,067 : INFO : skipping invalid line #86584 in ../evaluation/question-words.txt\n",
      "2017-02-21 18:01:01,068 : INFO : skipping invalid line #86585 in ../evaluation/question-words.txt\n",
      "2017-02-21 18:01:01,068 : INFO : skipping invalid line #86586 in ../evaluation/question-words.txt\n",
      "2017-02-21 18:01:01,069 : INFO : skipping invalid line #86587 in ../evaluation/question-words.txt\n",
      "2017-02-21 18:01:01,069 : INFO : skipping invalid line #86588 in ../evaluation/question-words.txt\n",
      "2017-02-21 18:01:01,070 : INFO : skipping invalid line #86589 in ../evaluation/question-words.txt\n",
      "2017-02-21 18:01:01,070 : INFO : skipping invalid line #86590 in ../evaluation/question-words.txt\n",
      "2017-02-21 18:01:01,071 : INFO : skipping invalid line #86591 in ../evaluation/question-words.txt\n",
      "2017-02-21 18:01:01,071 : INFO : skipping invalid line #86592 in ../evaluation/question-words.txt\n",
      "2017-02-21 18:01:01,072 : INFO : skipping invalid line #86593 in ../evaluation/question-words.txt\n",
      "2017-02-21 18:01:01,072 : INFO : skipping invalid line #86594 in ../evaluation/question-words.txt\n",
      "2017-02-21 18:01:01,073 : INFO : skipping invalid line #86595 in ../evaluation/question-words.txt\n",
      "2017-02-21 18:01:01,073 : INFO : skipping invalid line #86596 in ../evaluation/question-words.txt\n",
      "2017-02-21 18:01:01,073 : INFO : skipping invalid line #86597 in ../evaluation/question-words.txt\n",
      "2017-02-21 18:01:01,074 : INFO : skipping invalid line #86598 in ../evaluation/question-words.txt\n",
      "2017-02-21 18:01:01,074 : INFO : skipping invalid line #86599 in ../evaluation/question-words.txt\n",
      "2017-02-21 18:01:01,075 : INFO : skipping invalid line #86600 in ../evaluation/question-words.txt\n",
      "2017-02-21 18:01:01,075 : INFO : skipping invalid line #86601 in ../evaluation/question-words.txt\n",
      "2017-02-21 18:01:01,076 : INFO : skipping invalid line #86602 in ../evaluation/question-words.txt\n",
      "2017-02-21 18:01:01,076 : INFO : skipping invalid line #86603 in ../evaluation/question-words.txt\n",
      "2017-02-21 18:01:01,077 : INFO : skipping invalid line #86604 in ../evaluation/question-words.txt\n",
      "2017-02-21 18:01:01,077 : INFO : skipping invalid line #86605 in ../evaluation/question-words.txt\n",
      "2017-02-21 18:01:01,078 : INFO : skipping invalid line #86606 in ../evaluation/question-words.txt\n",
      "2017-02-21 18:01:01,078 : INFO : skipping invalid line #86607 in ../evaluation/question-words.txt\n",
      "2017-02-21 18:01:01,079 : INFO : skipping invalid line #86608 in ../evaluation/question-words.txt\n",
      "2017-02-21 18:01:01,079 : INFO : skipping invalid line #86609 in ../evaluation/question-words.txt\n",
      "2017-02-21 18:01:01,079 : INFO : skipping invalid line #86610 in ../evaluation/question-words.txt\n",
      "2017-02-21 18:01:01,080 : INFO : skipping invalid line #86611 in ../evaluation/question-words.txt\n",
      "2017-02-21 18:01:01,080 : INFO : skipping invalid line #86612 in ../evaluation/question-words.txt\n",
      "2017-02-21 18:01:01,081 : INFO : skipping invalid line #86613 in ../evaluation/question-words.txt\n",
      "2017-02-21 18:01:01,081 : INFO : skipping invalid line #86614 in ../evaluation/question-words.txt\n",
      "2017-02-21 18:01:01,082 : INFO : skipping invalid line #86615 in ../evaluation/question-words.txt\n",
      "2017-02-21 18:01:01,082 : INFO : skipping invalid line #86616 in ../evaluation/question-words.txt\n",
      "2017-02-21 18:01:01,083 : INFO : skipping invalid line #86617 in ../evaluation/question-words.txt\n",
      "2017-02-21 18:01:01,083 : INFO : skipping invalid line #86618 in ../evaluation/question-words.txt\n",
      "2017-02-21 18:01:01,083 : INFO : skipping invalid line #86619 in ../evaluation/question-words.txt\n",
      "2017-02-21 18:01:01,084 : INFO : skipping invalid line #86620 in ../evaluation/question-words.txt\n",
      "2017-02-21 18:01:01,085 : INFO : skipping invalid line #86621 in ../evaluation/question-words.txt\n",
      "2017-02-21 18:01:01,085 : INFO : skipping invalid line #86622 in ../evaluation/question-words.txt\n",
      "2017-02-21 18:01:01,085 : INFO : skipping invalid line #86623 in ../evaluation/question-words.txt\n",
      "2017-02-21 18:01:01,086 : INFO : skipping invalid line #86624 in ../evaluation/question-words.txt\n",
      "2017-02-21 18:01:01,086 : INFO : skipping invalid line #86625 in ../evaluation/question-words.txt\n",
      "2017-02-21 18:01:01,087 : INFO : skipping invalid line #86626 in ../evaluation/question-words.txt\n",
      "2017-02-21 18:01:01,087 : INFO : skipping invalid line #86627 in ../evaluation/question-words.txt\n",
      "2017-02-21 18:01:01,088 : INFO : skipping invalid line #86628 in ../evaluation/question-words.txt\n",
      "2017-02-21 18:01:01,088 : INFO : skipping invalid line #86629 in ../evaluation/question-words.txt\n",
      "2017-02-21 18:01:01,089 : INFO : skipping invalid line #86630 in ../evaluation/question-words.txt\n",
      "2017-02-21 18:01:01,089 : INFO : skipping invalid line #86631 in ../evaluation/question-words.txt\n",
      "2017-02-21 18:01:01,105 : INFO : skipping invalid line #86697 in ../evaluation/question-words.txt\n",
      "2017-02-21 18:01:01,109 : INFO : skipping invalid line #86776 in ../evaluation/question-words.txt\n",
      "2017-02-21 18:01:01,110 : INFO : skipping invalid line #86855 in ../evaluation/question-words.txt\n",
      "2017-02-21 18:01:01,124 : INFO : skipping invalid line #86934 in ../evaluation/question-words.txt\n",
      "2017-02-21 18:01:01,127 : INFO : skipping invalid line #87013 in ../evaluation/question-words.txt\n",
      "2017-02-21 18:01:01,128 : INFO : skipping invalid line #87092 in ../evaluation/question-words.txt\n",
      "2017-02-21 18:01:01,129 : INFO : skipping invalid line #87171 in ../evaluation/question-words.txt\n",
      "2017-02-21 18:01:01,130 : INFO : skipping invalid line #87250 in ../evaluation/question-words.txt\n",
      "2017-02-21 18:01:01,131 : INFO : skipping invalid line #87329 in ../evaluation/question-words.txt\n",
      "2017-02-21 18:01:01,132 : INFO : skipping invalid line #87408 in ../evaluation/question-words.txt\n",
      "2017-02-21 18:01:01,133 : INFO : skipping invalid line #87487 in ../evaluation/question-words.txt\n",
      "2017-02-21 18:01:01,134 : INFO : skipping invalid line #87566 in ../evaluation/question-words.txt\n",
      "2017-02-21 18:01:01,150 : INFO : skipping invalid line #87645 in ../evaluation/question-words.txt\n",
      "2017-02-21 18:01:01,183 : INFO : skipping invalid line #87724 in ../evaluation/question-words.txt\n",
      "2017-02-21 18:01:01,187 : INFO : verbs - 3.P.Sg., Partizip: 1.5% (15/992)\n",
      "2017-02-21 18:01:01,190 : INFO : total: 3.1% (338/10830)\n"
     ]
    },
    {
     "name": "stdout",
     "output_type": "stream",
     "text": [
      "Semantic: 2/828, Accuracy: 0.24%\n",
      "Syntactic: 336/10002, Accuracy: 3.36%\n",
      "Total: 676/21660, Accuracy: 3.12%\n"
     ]
    }
   ],
   "source": [
    "heads, fasttext_eval_sampled_accs = accuracy('../../models/fasttext/eval.vec', '../evaluation/question-words.txt')"
   ]
  },
  {
   "cell_type": "code",
   "execution_count": null,
   "metadata": {
    "collapsed": true
   },
   "outputs": [],
   "source": [
    "heads, fasttext_eval_complete_accs = accuracy('../../models/fasttext/eval.vec', '../evaluation/question-words-large.txt')"
   ]
  },
  {
   "cell_type": "markdown",
   "metadata": {
    "collapsed": true
   },
   "source": [
    "### Leipzig dataset"
   ]
  },
  {
   "cell_type": "code",
   "execution_count": null,
   "metadata": {
    "collapsed": true
   },
   "outputs": [],
   "source": [
    "heads, fasttext_leipzig_sampled_accs = accuracy('../../models/fasttext/leipzig.vec', '../evaluation/question-words.txt')"
   ]
  },
  {
   "cell_type": "code",
   "execution_count": null,
   "metadata": {
    "collapsed": true
   },
   "outputs": [],
   "source": [
    "heads, fasttext_leipzig_complete_accs = accuracy('../../models/fasttext/leipzig.vec', '../evaluation/question-words-large.txt')"
   ]
  },
  {
   "cell_type": "markdown",
   "metadata": {},
   "source": [
    "## Comparison"
   ]
  },
  {
   "cell_type": "code",
   "execution_count": null,
   "metadata": {
    "collapsed": true
   },
   "outputs": [],
   "source": [
    "from IPython.display import display\n",
    "def compare(df):\n",
    "    display(df)\n",
    "    rows = df.shape[0]\n",
    "    cols = df.shape[1]\n",
    "    plt.figure(figsize=(cols*0.5+3,rows*0.5))\n",
    "    sns.heatmap(df, annot=True, fmt=\".1f\")\n",
    "    plt.show()"
   ]
  },
  {
   "cell_type": "markdown",
   "metadata": {},
   "source": [
    "### Leipzig dataset"
   ]
  },
  {
   "cell_type": "code",
   "execution_count": null,
   "metadata": {
    "collapsed": true
   },
   "outputs": [],
   "source": [
    "index = [\"word2vec\", \"deps-based\", \"deps-based-clean\", \"fasttext\"]\n",
    "columns = heads\n",
    "\n",
    "data_sampled = [\n",
    "    w2v_leipzig_sampled_accs, \n",
    "    depsbased_leipzig_sampled_accs, \n",
    "    depsbased_leipzig_clean_sampled_accs,\n",
    "    fasttext_leipzig_sampled_accs\n",
    "]\n",
    "\n",
    "data_complete = [\n",
    "    w2v_leipzig_complete_accs,\n",
    "    depsbased_leipzig_complete_accs,\n",
    "    depsbased_leipzig_clean_complete_accs,\n",
    "    fasttext_leipzig_complete_accs\n",
    "]\n",
    "\n",
    "leipzig_df_sampled = pd.DataFrame(data=data_sampled, columns=columns, index=index)\n",
    "leipzig_df_complete = pd.DataFrame(data=data_complete, columns=columns, index=index)\n",
    "\n",
    "# leipzig_df_sampled = pd.read_csv('accs-sampled-questions.csv', index_col=0)\n",
    "# leipzig_df_complete = pd.read_csv('accs-all-questions.csv', index_col=0)"
   ]
  },
  {
   "cell_type": "code",
   "execution_count": null,
   "metadata": {
    "collapsed": true
   },
   "outputs": [],
   "source": [
    "compare(leipzig_df_sampled)"
   ]
  },
  {
   "cell_type": "code",
   "execution_count": null,
   "metadata": {
    "collapsed": true
   },
   "outputs": [],
   "source": [
    "compare(leipzig_df_complete)"
   ]
  },
  {
   "cell_type": "markdown",
   "metadata": {},
   "source": [
    "### Eval dataset"
   ]
  },
  {
   "cell_type": "code",
   "execution_count": null,
   "metadata": {
    "collapsed": true
   },
   "outputs": [],
   "source": [
    "index = [\"word2vec\", \"dependency-based\", \"fasttext\"]\n",
    "columns = heads\n",
    "\n",
    "data_sampled = [w2v_eval_sampled_accs, depsbased_eval_sampled_accs, fasttext_eval_sampled_accs]\n",
    "# data_complete = [w2v_eval_complete_accs, depsbased_eval_complete_accs, fasttext_eval_complete_accs]\n",
    "\n",
    "eval_df_sampled = pd.DataFrame(data=data_sampled, columns=columns, index=index)\n",
    "# eval_df_complete = pd.DataFrame(data=data_complete, columns=columns, index=index)\n",
    "\n",
    "# eval_df_sampled = pd.read_csv('accs-sampled-questions.csv', index_col=0)\n",
    "# eval_df_complete = pd.read_csv('accs-all-questions.csv', index_col=0)"
   ]
  },
  {
   "cell_type": "code",
   "execution_count": null,
   "metadata": {
    "collapsed": true
   },
   "outputs": [],
   "source": [
    "compare(eval_df_sampled)"
   ]
  },
  {
   "cell_type": "code",
   "execution_count": null,
   "metadata": {
    "collapsed": true
   },
   "outputs": [],
   "source": [
    "compare(eval_df_complete)"
   ]
  }
 ],
 "metadata": {
  "kernelspec": {
   "display_name": "Python 3",
   "language": "python",
   "name": "python3"
  },
  "language_info": {
   "codemirror_mode": {
    "name": "ipython",
    "version": 3
   },
   "file_extension": ".py",
   "mimetype": "text/x-python",
   "name": "python",
   "nbconvert_exporter": "python",
   "pygments_lexer": "ipython3",
   "version": "3.5.2"
  }
 },
 "nbformat": 4,
 "nbformat_minor": 0
}
