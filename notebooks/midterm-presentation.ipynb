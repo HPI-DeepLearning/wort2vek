{
 "cells": [
  {
   "cell_type": "code",
   "execution_count": 3,
   "metadata": {
    "collapsed": false
   },
   "outputs": [
    {
     "name": "stderr",
     "output_type": "stream",
     "text": [
      "/usr/local/lib/python3.5/site-packages/gensim/utils.py:1015: UserWarning: Pattern library is not installed, lemmatization won't be available.\n",
      "  warnings.warn(\"Pattern library is not installed, lemmatization won't be available.\")\n"
     ]
    }
   ],
   "source": [
    "from gensim.models.word2vec import Word2Vec\n",
    "from goethe.visualization import Visualizer\n",
    "import matplotlib\n",
    "%matplotlib inline"
   ]
  },
  {
   "cell_type": "code",
   "execution_count": 4,
   "metadata": {
    "collapsed": false
   },
   "outputs": [],
   "source": [
    "model = Word2Vec.load('models/presentation-model-300.model')"
   ]
  },
  {
   "cell_type": "code",
   "execution_count": 5,
   "metadata": {
    "collapsed": false
   },
   "outputs": [
    {
     "data": {
      "text/plain": [
       "[('Königin', 0.643670916557312),\n",
       " ('Gemahlin', 0.6274510622024536),\n",
       " ('Gattin', 0.6183602809906006),\n",
       " ('Prinzessin', 0.6120162606239319),\n",
       " ('Fürst', 0.602460503578186),\n",
       " ('Fürstin', 0.5903211236000061),\n",
       " ('II.,', 0.5741391777992249),\n",
       " ('Kaiserin', 0.5724098682403564),\n",
       " ('VI.', 0.5665277242660522),\n",
       " ('Ehefrau', 0.5632150173187256)]"
      ]
     },
     "execution_count": 5,
     "metadata": {},
     "output_type": "execute_result"
    }
   ],
   "source": [
    "model.most_similar(positive=['König', 'Frau'], negative=['Mann'])"
   ]
  },
  {
   "cell_type": "code",
   "execution_count": 8,
   "metadata": {
    "collapsed": false
   },
   "outputs": [
    {
     "data": {
      "text/plain": [
       "[('langsamer', 0.7524131536483765),\n",
       " ('schneller,', 0.6327106952667236),\n",
       " ('langsamer,', 0.6044222116470337),\n",
       " ('rascher', 0.5669650435447693),\n",
       " ('kürzer', 0.5361460447311401),\n",
       " ('schneller.', 0.5347859859466553),\n",
       " ('langsamer.', 0.5191919803619385),\n",
       " ('härter', 0.5169436931610107),\n",
       " ('wärmer', 0.5056638717651367),\n",
       " ('schwächer', 0.5010508894920349)]"
      ]
     },
     "execution_count": 8,
     "metadata": {},
     "output_type": "execute_result"
    }
   ],
   "source": [
    "model.most_similar(positive=['schneller', 'langsam'], negative=['schnell'])"
   ]
  },
  {
   "cell_type": "code",
   "execution_count": 40,
   "metadata": {
    "collapsed": false
   },
   "outputs": [
    {
     "data": {
      "text/plain": [
       "[('Regime', 0.639941930770874),\n",
       " ('Parlament', 0.6256972551345825),\n",
       " ('Kabinett', 0.6237901449203491),\n",
       " ('Außenministerium', 0.6141599416732788),\n",
       " ('Botschaftsgebäude', 0.5998755693435669),\n",
       " ('Land', 0.5876581072807312),\n",
       " ('Militär', 0.5867788195610046),\n",
       " ('Ministerium', 0.5822603702545166),\n",
       " ('Volk', 0.5750606060028076),\n",
       " ('Haus,', 0.5742884278297424)]"
      ]
     },
     "execution_count": 40,
     "metadata": {},
     "output_type": "execute_result"
    }
   ],
   "source": [
    "model.most_similar(positive=['Haus', 'Regierung'])"
   ]
  },
  {
   "cell_type": "code",
   "execution_count": 48,
   "metadata": {
    "collapsed": false
   },
   "outputs": [
    {
     "data": {
      "text/plain": [
       "[('Motorrad', 0.6950935125350952),\n",
       " ('Fahrzeug', 0.6840598583221436),\n",
       " ('Rad', 0.6741383075714111),\n",
       " ('Fahrrad', 0.6634443998336792),\n",
       " ('Auto,', 0.6500861644744873),\n",
       " ('Wagen', 0.6280651092529297),\n",
       " ('Mofa', 0.6247397661209106),\n",
       " ('Gefährt', 0.6236165761947632),\n",
       " ('rasch', 0.6074541211128235),\n",
       " ('Moped', 0.603806734085083)]"
      ]
     },
     "execution_count": 48,
     "metadata": {},
     "output_type": "execute_result"
    }
   ],
   "source": [
    "model.most_similar(positive=['Auto', 'schnell'])"
   ]
  },
  {
   "cell_type": "code",
   "execution_count": 53,
   "metadata": {
    "collapsed": false
   },
   "outputs": [
    {
     "data": {
      "text/plain": [
       "[('Kinderarzt', 0.6190820932388306),\n",
       " ('Augenarzt', 0.5874329209327698),\n",
       " ('Zahnarzt', 0.570914089679718),\n",
       " ('Amtsarzt', 0.5671116709709167),\n",
       " ('Psychiater', 0.5634347796440125),\n",
       " ('Frauenarzt', 0.5583012700080872),\n",
       " ('Neonazi', 0.5411401391029358),\n",
       " ('Bademeister', 0.5324158668518066),\n",
       " ('Krankenpfleger', 0.5295807719230652),\n",
       " ('Veterinär', 0.529578447341919)]"
      ]
     },
     "execution_count": 53,
     "metadata": {},
     "output_type": "execute_result"
    }
   ],
   "source": [
    "model.most_similar(positive=['Hautarzt', 'Zähne'], negative=['Haut'])"
   ]
  },
  {
   "cell_type": "code",
   "execution_count": 61,
   "metadata": {
    "collapsed": false
   },
   "outputs": [
    {
     "data": {
      "text/plain": [
       "[('Gotteshaus', 0.7444210052490234),\n",
       " ('Pfarrhaus', 0.7439174056053162),\n",
       " ('Gemeindehaus', 0.7407345175743103),\n",
       " ('Lokal', 0.736537754535675),\n",
       " ('Zelt', 0.7226974368095398),\n",
       " ('Festgottesdienst', 0.7062838077545166),\n",
       " ('Gemeindezentrum', 0.7011264562606812),\n",
       " ('Landhaus', 0.695036768913269),\n",
       " ('Gebet', 0.6916146278381348),\n",
       " ('Heim', 0.691011905670166)]"
      ]
     },
     "execution_count": 61,
     "metadata": {},
     "output_type": "execute_result"
    }
   ],
   "source": [
    "model.most_similar(positive=['Haus', 'Gottesdienst'])"
   ]
  },
  {
   "cell_type": "code",
   "execution_count": 70,
   "metadata": {
    "collapsed": false
   },
   "outputs": [
    {
     "data": {
      "text/plain": [
       "[('Krebszelle', 0.5564919710159302),\n",
       " ('Spraydose', 0.5559492111206055),\n",
       " ('Zeitmaschine', 0.5514661073684692),\n",
       " ('Zahnbürste', 0.5501031279563904),\n",
       " ('Bohrmaschine', 0.5498675107955933),\n",
       " ('Zigarettenpause', 0.5482357144355774),\n",
       " ('Spinne', 0.548043429851532),\n",
       " ('Ameise', 0.5474988222122192),\n",
       " ('Grillparty', 0.5462180376052856),\n",
       " ('Vorrichtung', 0.5457415580749512)]"
      ]
     },
     "execution_count": 70,
     "metadata": {},
     "output_type": "execute_result"
    }
   ],
   "source": [
    "model.most_similar(positive=['Schnecke', 'schnell'], negative=['langsam'])"
   ]
  },
  {
   "cell_type": "code",
   "execution_count": 81,
   "metadata": {
    "collapsed": false
   },
   "outputs": [
    {
     "data": {
      "text/plain": [
       "[('Infarkt', 0.7028095126152039),\n",
       " ('Herzstillstand', 0.694275975227356),\n",
       " ('Bandscheibenvorfall', 0.6783759593963623),\n",
       " ('Luftröhrenschnitt', 0.6704769134521484),\n",
       " ('Knochenbruch', 0.668927013874054),\n",
       " ('Klinikaufenthalt', 0.6683554649353027),\n",
       " ('Bluttest', 0.6643201112747192),\n",
       " ('Defibrillator', 0.65974360704422),\n",
       " ('MRT', 0.6582774519920349),\n",
       " ('Schlaganfall', 0.6581847667694092)]"
      ]
     },
     "execution_count": 81,
     "metadata": {},
     "output_type": "execute_result"
    }
   ],
   "source": [
    "model.most_similar(positive=['OP', 'Bypass'])"
   ]
  },
  {
   "cell_type": "code",
   "execution_count": 111,
   "metadata": {
    "collapsed": false
   },
   "outputs": [
    {
     "data": {
      "text/plain": [
       "[('Schlaganfall', 0.6547342538833618),\n",
       " ('Herzleiden', 0.6349984407424927),\n",
       " ('Herzstillstand', 0.6326766014099121),\n",
       " ('Nierenversagen', 0.6160976886749268),\n",
       " ('Lungenleiden', 0.6095041632652283),\n",
       " ('Lungenversagen', 0.5943593978881836),\n",
       " ('epileptischen', 0.5896553993225098),\n",
       " ('Atemstillstand', 0.5880290269851685),\n",
       " ('Myokardinfarkt', 0.5880246162414551),\n",
       " ('Herzfehler', 0.5831939578056335)]"
      ]
     },
     "execution_count": 111,
     "metadata": {},
     "output_type": "execute_result"
    }
   ],
   "source": [
    "# Herzstillstand, Bypass\n",
    "# Bruch, Gips\n",
    "\n",
    "model.most_similar(positive=['Herzinfarkt', 'Stent'], negative=['Bypass'])"
   ]
  },
  {
   "cell_type": "code",
   "execution_count": 114,
   "metadata": {
    "collapsed": false
   },
   "outputs": [
    {
     "data": {
      "text/plain": [
       "[('Herz,', 0.6712255477905273),\n",
       " ('Herz.', 0.624106228351593),\n",
       " ('Gemüt', 0.5796083211898804),\n",
       " ('Ohr', 0.576915979385376),\n",
       " ('Gesicht', 0.5586345195770264),\n",
       " ('Hirn', 0.5431772470474243),\n",
       " ('Antlitz', 0.5381811261177063),\n",
       " ('Gefühlsleben', 0.537505030632019),\n",
       " ('Herz.\"', 0.5335092544555664),\n",
       " ('Herz\"', 0.5284560322761536)]"
      ]
     },
     "execution_count": 114,
     "metadata": {},
     "output_type": "execute_result"
    }
   ],
   "source": [
    "model.most_similar(positive=['Herz', 'Schlaganfall'], negative=['Herzinfarkt'])"
   ]
  },
  {
   "cell_type": "code",
   "execution_count": 110,
   "metadata": {
    "collapsed": false
   },
   "outputs": [
    {
     "data": {
      "text/plain": [
       "[('Kanzlerin', 0.7108816504478455),\n",
       " ('Kanzler,', 0.6565054059028625),\n",
       " ('Bundeskanzler', 0.6534677743911743),\n",
       " ('Frau,', 0.6475342512130737),\n",
       " ('Schröder', 0.643523097038269),\n",
       " ('Gattin', 0.6396547555923462),\n",
       " ('Stoiber', 0.634778618812561),\n",
       " ('Lafontaine', 0.628038227558136),\n",
       " ('Vizekanzler', 0.6279112100601196),\n",
       " ('Dame', 0.6214525699615479)]"
      ]
     },
     "execution_count": 110,
     "metadata": {},
     "output_type": "execute_result"
    }
   ],
   "source": [
    "model.most_similar(positive=['Frau', 'Kanzler'])"
   ]
  },
  {
   "cell_type": "code",
   "execution_count": 15,
   "metadata": {
    "collapsed": true
   },
   "outputs": [],
   "source": [
    "viz = Visualizer(model, Visualizer.pca)"
   ]
  },
  {
   "cell_type": "code",
   "execution_count": 22,
   "metadata": {
    "collapsed": false
   },
   "outputs": [
    {
     "data": {
      "image/png": "[encoded data removed]",
      "text/plain": [
       "<matplotlib.figure.Figure at 0x1e2947ef0>"
      ]
     },
     "metadata": {},
     "output_type": "display_data"
    }
   ],
   "source": [
    "viz.visualize(['König', 'Königin', 'Mann', 'Frau'])"
   ]
  },
  {
   "cell_type": "code",
   "execution_count": 34,
   "metadata": {
    "collapsed": false
   },
   "outputs": [
    {
     "data": {
      "image/png": "[encoded data removed]",
      "text/plain": [
       "<matplotlib.figure.Figure at 0x1e5b9beb8>"
      ]
     },
     "metadata": {},
     "output_type": "display_data"
    }
   ],
   "source": [
    "viz.visualize(['Baum','Busch', 'Gras','Stein', 'Haus', 'Hochhaus', 'Auto', 'Hund', 'Katze', 'Motorrad'])"
   ]
  },
  {
   "cell_type": "code",
   "execution_count": 47,
   "metadata": {
    "collapsed": false
   },
   "outputs": [
    {
     "data": {
      "image/png": "[encoded data removed]",
      "text/plain": [
       "<matplotlib.figure.Figure at 0x1e5982400>"
      ]
     },
     "metadata": {},
     "output_type": "display_data"
    }
   ],
   "source": [
    "viz.visualize(['schnell', 'schneller', 'schnellsten', 'laut', 'lauter', 'lautesten', 'schön', 'schöner', 'schönsten'])"
   ]
  },
  {
   "cell_type": "code",
   "execution_count": null,
   "metadata": {
    "collapsed": true
   },
   "outputs": [],
   "source": []
  }
 ],
 "metadata": {
  "kernelspec": {
   "display_name": "Python 3",
   "language": "python",
   "name": "python3"
  },
  "language_info": {
   "codemirror_mode": {
    "name": "ipython",
    "version": 3
   },
   "file_extension": ".py",
   "mimetype": "text/x-python",
   "name": "python",
   "nbconvert_exporter": "python",
   "pygments_lexer": "ipython3",
   "version": "3.5.2"
  }
 },
 "nbformat": 4,
 "nbformat_minor": 0
}
