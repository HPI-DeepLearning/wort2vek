{
 "cells": [
  {
   "cell_type": "markdown",
   "metadata": {},
   "source": [
    "# Filter POS to improve word vectors"
   ]
  },
  {
   "cell_type": "markdown",
   "metadata": {},
   "source": [
    "## Filter\n",
    "* **AUX** \t\tAuxiliary verb\t _wurde, wird, hast, sind_\n",
    "* **PUNCT** \tPunctuation\t\t_., ,, :, (, ),_\n",
    "* **DET (?)** \tDeterminer\t\t_des, der,  das, ein_\n",
    "* **ADP** \t\tApposition\t\t_für, nördlich, in, um_\n",
    "* **X** \t\tOther\n",
    "* **NUM** \tNumbers\t\t_007, 0.2, 09_\n",
    "* **CONJ**\tCoord.  onj.    _und, als_\n",
    "\n",
    "## Also try\n",
    "* **PART** \tParticiple\t\t_ein, zu, statt_\n",
    "* **SCONJ**     Subord. conj.        _um, wenn_\n",
    "* **ADV**\t\tAdverb\t\t\t_damit, nun, auch_\n",
    "* **PRON (?)**\tPronoun\t\t\t_er, sich, sie_ \n"
   ]
  },
  {
   "cell_type": "code",
   "execution_count": 1,
   "metadata": {
    "collapsed": false
   },
   "outputs": [
    {
     "name": "stdout",
     "output_type": "stream",
     "text": [
      "/Users/williraschkowski/dev/goethe\n"
     ]
    }
   ],
   "source": [
    "cd .."
   ]
  },
  {
   "cell_type": "code",
   "execution_count": 64,
   "metadata": {
    "collapsed": true
   },
   "outputs": [],
   "source": [
    "import spacy\n",
    "\n",
    "nlp = spacy.load('de')"
   ]
  },
  {
   "cell_type": "code",
   "execution_count": 206,
   "metadata": {
    "collapsed": false
   },
   "outputs": [],
   "source": [
    "import re\n",
    "import os\n",
    "import nltk\n",
    "import itertools as it\n",
    "\n",
    "class Corpus:\n",
    "    def __init__(self, path, n=None):\n",
    "        self.path = path\n",
    "        \n",
    "    def __iter__(self, tokens=True):\n",
    "        with open(self.path) as lines:\n",
    "            yield from (nltk.word_tokenize(sent.strip()) if tokens else sent.strip() for sent in lines)\n",
    "\n",
    "\n",
    "class POSCorpus(Corpus):\n",
    "    def __init__(self, path):\n",
    "        self.path = path\n",
    "        self.filter = {'AUX', 'PUNCT', 'DET', 'ADP', 'X', 'NUM', 'CONJ'}\n",
    "        self._sents = None\n",
    "        \n",
    "    def __iter__(self):\n",
    "        for sent in self.sents:\n",
    "            yield [str(w) for w in sent if w.pos_ not in self.filter]\n",
    "    \n",
    "    @property\n",
    "    def sents(self):\n",
    "        if not self._sents:\n",
    "            self._sents = list(nlp.pipe(super().__iter__(tokens=False), parse=False))\n",
    "        return self._sents"
   ]
  },
  {
   "cell_type": "code",
   "execution_count": 300,
   "metadata": {
    "collapsed": false
   },
   "outputs": [],
   "source": [
    "corpus = Corpus('data/leipzig/deu_wikipedia_2014_3M.txt')\n",
    "pos_corpus = POSCorpus('data/leipzig/deu_wikipedia_2014_3M.txt')"
   ]
  },
  {
   "cell_type": "code",
   "execution_count": 475,
   "metadata": {
    "collapsed": false,
    "scrolled": false
   },
   "outputs": [
    {
     "name": "stdout",
     "output_type": "stream",
     "text": [
      "007 James  Bond greift  ein     .\n",
      "NUM PROPN PROPN   VERB PART PUNCT\n",
      "\n",
      "James  Bond greift  ein\n",
      "PROPN PROPN   VERB PART\n",
      "\n",
      "---------------------------------------------\n",
      "\n",
      "0,2   g des Krauts sind für Mäuse  und Frösche tödlich     .\n",
      "NUM ADP DET   NOUN  AUX ADP  NOUN CONJ    NOUN     ADJ PUNCT\n",
      "\n",
      "Krauts Mäuse Frösche tödlich\n",
      "  NOUN  NOUN    NOUN     ADJ\n",
      "\n",
      "---------------------------------------------\n",
      "\n",
      "07.28 * Ultraphon     A 531     (    mx     .  10 984     ) Küsse mich     ,  wenn   du mich lieb hast     .\n",
      "  NUM X     PROPN PROPN NUM PUNCT PROPN PUNCT NUM NUM PUNCT  NOUN PRON PUNCT SCONJ PRON PRON  ADJ  AUX PUNCT\n",
      "\n",
      "Ultraphon     A    mx Küsse mich  wenn   du mich lieb\n",
      "    PROPN PROPN PROPN  NOUN PRON SCONJ PRON PRON  ADJ\n",
      "\n",
      "---------------------------------------------\n",
      "\n",
      " 09     : Nördlich der Trave liegt Kücknitz     , das alte Industrieviertel von Lübeck     .\n",
      "NUM PUNCT      ADP DET  NOUN  VERB    PROPN PUNCT DET  ADJ             NOUN ADP  PROPN PUNCT\n",
      "\n",
      "Trave liegt Kücknitz alte Industrieviertel Lübeck\n",
      " NOUN  VERB    PROPN  ADJ             NOUN  PROPN\n",
      "\n",
      "---------------------------------------------\n",
      "\n",
      "   ¼ des Landes wurde konfisziert     .\n",
      "NOUN DET   NOUN   AUX        VERB PUNCT\n",
      "\n",
      "   ¼ Landes konfisziert\n",
      "NOUN   NOUN        VERB\n",
      "\n",
      "---------------------------------------------\n",
      "\n",
      "10.000 jüdische Hamburger kamen  in der  Shoa ums Leben     .\n",
      "   NUM      ADJ       ADJ  VERB ADP DET PROPN ADP  NOUN PUNCT\n",
      "\n",
      "jüdische Hamburger kamen  Shoa Leben\n",
      "     ADJ       ADJ  VERB PROPN  NOUN\n",
      "\n",
      "---------------------------------------------\n",
      "\n",
      "1000 französische Arbeitskräfte sind damit vier Jahre ausgelastet     .\n",
      " NUM          ADJ          NOUN  AUX   ADV  NUM  NOUN        VERB PUNCT\n",
      "\n",
      "französische Arbeitskräfte damit Jahre ausgelastet\n",
      "         ADJ          NOUN   ADV  NOUN        VERB\n",
      "\n",
      "---------------------------------------------\n",
      "\n",
      "1000 Jahre später     : David     „  Dave     “ Stutler ist ein introvertierter Außenseiter     .\n",
      " NUM  NOUN    ADJ PUNCT PROPN PUNCT PROPN PROPN    NOUN AUX DET             ADJ        NOUN PUNCT\n",
      "\n",
      "Jahre später David  Dave     “ Stutler introvertierter Außenseiter\n",
      " NOUN    ADJ PROPN PROPN PROPN    NOUN             ADJ        NOUN\n",
      "\n",
      "---------------------------------------------\n",
      "\n",
      "«1000 Kreuze»     ) nun auch gegen die extreme Linke Stellung   zu beziehen     .\n",
      "    X   PROPN PUNCT ADV  ADV   ADP DET     ADJ  NOUN     NOUN PART     VERB PUNCT\n",
      "\n",
      "Kreuze» nun auch extreme Linke Stellung   zu beziehen\n",
      "  PROPN ADV  ADV     ADJ  NOUN     NOUN PART     VERB\n",
      "\n",
      "---------------------------------------------\n",
      "\n",
      "1000 Meter Datum     :  13     . März 2011 Rang 1–3  im Finale     .\n",
      " NUM  NOUN  NOUN PUNCT NUM PUNCT NOUN  NUM NOUN NUM ADP   NOUN PUNCT\n",
      "\n",
      "Meter Datum März Rang Finale\n",
      " NOUN  NOUN NOUN NOUN   NOUN\n",
      "\n",
      "---------------------------------------------\n",
      "\n",
      "1000 Meter Datum     :  21     . März 2004 Rang 1–5  im Finale     , Rang 6–8  im Halbfinale     .\n",
      " NUM  NOUN  NOUN PUNCT NUM PUNCT NOUN  NUM NOUN NUM ADP   NOUN PUNCT NOUN NUM ADP       NOUN PUNCT\n",
      "\n",
      "Meter Datum März Rang Finale Rang Halbfinale\n",
      " NOUN  NOUN NOUN NOUN   NOUN NOUN       NOUN\n",
      "\n",
      "---------------------------------------------\n",
      "\n",
      "1000 Meter Datum     :   2     . April 2006 Rang 1–5  im Finale     , Rang 6–8  im Halbfinale     .\n",
      " NUM  NOUN  NOUN PUNCT NUM PUNCT  NOUN  NUM NOUN NUM ADP   NOUN PUNCT NOUN NUM ADP       NOUN PUNCT\n",
      "\n",
      "Meter Datum April Rang Finale Rang Halbfinale\n",
      " NOUN  NOUN  NOUN NOUN   NOUN NOUN       NOUN\n",
      "\n",
      "---------------------------------------------\n",
      "\n",
      "1001 überantwortete     ,  so behauptete das Bistum  ab dem  12     . Jahrhundert     ,  Otto  III.\n",
      " NUM           VERB PUNCT ADV       VERB DET   NOUN ADP DET NUM PUNCT        NOUN PUNCT PROPN PROPN\n",
      "\n",
      "überantwortete  so behauptete Bistum Jahrhundert  Otto  III.\n",
      "          VERB ADV       VERB   NOUN        NOUN PROPN PROPN\n",
      "\n",
      "---------------------------------------------\n",
      "\n",
      "1007 wird  in einer Urkunde Heinrichs II.\n",
      " NUM  AUX ADP   DET    NOUN     PROPN ADJ\n",
      "\n",
      "Urkunde Heinrichs II.\n",
      "   NOUN     PROPN ADJ\n",
      "\n",
      "---------------------------------------------\n",
      "\n",
      "1009 bestätigte Kaiser Heinrich   II.\n",
      " NUM       VERB   NOUN    PROPN PROPN\n",
      "\n",
      "bestätigte Kaiser Heinrich   II.\n",
      "      VERB   NOUN    PROPN PROPN\n",
      "\n",
      "---------------------------------------------\n",
      "\n",
      "100 Länderspiele Alle Spieler dieser Liste haben mehr  als 100 Länderspiele     .\n",
      "NUM         NOUN  DET    NOUN    DET  NOUN   AUX  DET CONJ NUM         NOUN PUNCT\n",
      "\n",
      "Länderspiele Spieler Liste Länderspiele\n",
      "        NOUN    NOUN  NOUN         NOUN\n",
      "\n",
      "---------------------------------------------\n",
      "\n",
      "100    m Freistil Das Finale fand  am  17     . August statt     .\n",
      "NUM NOUN     NOUN DET   NOUN VERB ADP NUM PUNCT  PROPN  PART PUNCT\n",
      "\n",
      "   m Freistil Finale fand August statt\n",
      "NOUN     NOUN   NOUN VERB  PROPN  PART\n",
      "\n",
      "---------------------------------------------\n",
      "\n",
      "100px  Am   1     . Februar 2000 wurden die Euro     - Kennzeichen eingeführt     .\n",
      "    X ADP NUM PUNCT    NOUN  NUM    AUX DET NOUN PUNCT        NOUN       VERB PUNCT\n",
      "\n",
      "Februar Euro Kennzeichen eingeführt\n",
      "   NOUN NOUN        NOUN       VERB\n",
      "\n",
      "---------------------------------------------\n",
      "\n",
      "100-Volt     - Technik Die Ausgänge sind  in sogenannter 100-Volt     - Technik ausgeführt     .\n",
      "     ADJ PUNCT    NOUN DET     NOUN  AUX ADP         ADJ     NOUN PUNCT    NOUN       VERB PUNCT\n",
      "\n",
      "100-Volt Technik Ausgänge sogenannter 100-Volt Technik ausgeführt\n",
      "     ADJ    NOUN     NOUN         ADJ     NOUN    NOUN       VERB\n",
      "\n",
      "---------------------------------------------\n",
      "\n",
      "1014 zählt das Kloster  zu den zahlreichen Besitztümern     ,  die Kaiser Heinrich   II.\n",
      " NUM  VERB DET    NOUN ADP DET         ADJ         NOUN PUNCT PRON   NOUN    PROPN PROPN\n",
      "\n",
      "zählt Kloster zahlreichen Besitztümern  die Kaiser Heinrich   II.\n",
      " VERB    NOUN         ADJ         NOUN PRON   NOUN    PROPN PROPN\n",
      "\n",
      "---------------------------------------------\n",
      "\n",
      "101 Dalmatiner Teil   2     – Auf kleinen Pfoten zum großen  Star     !\n",
      "NUM       NOUN NOUN NUM PUNCT ADP     ADJ   NOUN ADP    ADJ PROPN PUNCT\n",
      "\n",
      "Dalmatiner Teil kleinen Pfoten großen  Star\n",
      "      NOUN NOUN     ADJ   NOUN    ADJ PROPN\n",
      "\n",
      "---------------------------------------------\n",
      "\n",
      "10220 Einwohner     ( 2010     ) leben  im Bezirk Grobiņa     .\n",
      "  NUM      NOUN PUNCT  NUM PUNCT  VERB ADP   NOUN   PROPN PUNCT\n",
      "\n",
      "Einwohner leben Bezirk Grobiņa\n",
      "     NOUN  VERB   NOUN   PROPN\n",
      "\n",
      "---------------------------------------------\n",
      "\n",
      "1024   an     , konnte sich aber nicht damit durchsetzen     .\n",
      " NUM PART PUNCT   VERB PRON  ADV  PART   ADV        VERB PUNCT\n",
      "\n",
      "  an konnte sich aber nicht damit durchsetzen\n",
      "PART   VERB PRON  ADV  PART   ADV        VERB\n",
      "\n",
      "---------------------------------------------\n",
      "\n",
      "1028 nahm Hartwig  an der Krönung Heinrichs  III.\n",
      " NUM VERB   PROPN ADP DET    NOUN     PROPN PROPN\n",
      "\n",
      "nahm Hartwig Krönung Heinrichs  III.\n",
      "VERB   PROPN    NOUN     PROPN PROPN\n",
      "\n",
      "---------------------------------------------\n",
      "\n",
      "1029 ausstellte     , ist die     \" villa Bracha     \" aufgeführt     .\n",
      " NUM       VERB PUNCT AUX DET PUNCT   ADJ  PROPN PUNCT       VERB PUNCT\n",
      "\n",
      "ausstellte villa Bracha aufgeführt\n",
      "      VERB   ADJ  PROPN       VERB\n",
      "\n",
      "---------------------------------------------\n",
      "\n",
      "102 Jahre nach der Gründung erfolgte erneut eine Rechtsformänderung     .\n",
      "NUM  NOUN  ADP DET     NOUN     VERB    ADJ  DET               NOUN PUNCT\n",
      "\n",
      "Jahre Gründung erfolgte erneut Rechtsformänderung\n",
      " NOUN     NOUN     VERB    ADJ               NOUN\n",
      "\n",
      "---------------------------------------------\n",
      "\n",
      "10368 Einwohner     ( 2010     ) leben  im Bezirk Aizpute     .\n",
      "  NUM      NOUN PUNCT  NUM PUNCT  VERB ADP   NOUN   PROPN PUNCT\n",
      "\n",
      "Einwohner leben Bezirk Aizpute\n",
      "     NOUN  VERB   NOUN   PROPN\n",
      "\n",
      "---------------------------------------------\n",
      "\n",
      "103  v.  Chr. teilten sich die Stämme  auf     ,    um die Poebene   zu erobern     .\n",
      "NUM ADP PROPN    VERB PRON DET   NOUN PART PUNCT SCONJ DET    NOUN PART    VERB PUNCT\n",
      "\n",
      " Chr. teilten sich Stämme  auf    um Poebene   zu erobern\n",
      "PROPN    VERB PRON   NOUN PART SCONJ    NOUN PART    VERB\n",
      "\n",
      "---------------------------------------------\n",
      "\n",
      "1043 heiratete hier Heinrich  III.\n",
      " NUM      VERB  ADV    PROPN PROPN\n",
      "\n",
      "heiratete hier Heinrich  III.\n",
      "     VERB  ADV    PROPN PROPN\n",
      "\n",
      "---------------------------------------------\n",
      "\n",
      "1046 die Voraussetzungen für das Reformpapsttum     .\n",
      " NUM DET            NOUN ADP DET           NOUN PUNCT\n",
      "\n",
      "Voraussetzungen Reformpapsttum\n",
      "           NOUN           NOUN\n",
      "\n",
      "---------------------------------------------\n",
      "\n",
      "1048 wurde Bagaran bei einem Angriff der Seldschuken beschädigt     .\n",
      " NUM   AUX   PROPN ADP   DET    NOUN DET        NOUN       VERB PUNCT\n",
      "\n",
      "Bagaran Angriff Seldschuken beschädigt\n",
      "  PROPN    NOUN        NOUN       VERB\n",
      "\n",
      "---------------------------------------------\n",
      "\n",
      "1049 nahm  Yves  am Konzil  zu Reims teil     , auf  dem Papst   Leo   IX.\n",
      " NUM VERB PROPN ADP   NOUN ADP PROPN PART PUNCT ADP PRON  NOUN PROPN PROPN\n",
      "\n",
      "nahm  Yves Konzil Reims teil  dem Papst   Leo   IX.\n",
      "VERB PROPN   NOUN PROPN PART PRON  NOUN PROPN PROPN\n",
      "\n",
      "---------------------------------------------\n",
      "\n",
      "104 der 536 Hektar der Gemeindefläche sind bewaldet     .\n",
      "NUM DET NUM   NOUN DET           NOUN  AUX      ADJ PUNCT\n",
      "\n",
      "Hektar Gemeindefläche bewaldet\n",
      "  NOUN           NOUN      ADJ\n",
      "\n",
      "---------------------------------------------\n",
      "\n",
      "1059 wurde Foucarment als Fulcardi Montent erstmals urkundlich erwähnt     .\n",
      " NUM   AUX       NOUN ADP     NOUN    NOUN      ADV        ADJ    VERB PUNCT\n",
      "\n",
      "Foucarment Fulcardi Montent erstmals urkundlich erwähnt\n",
      "      NOUN     NOUN    NOUN      ADV        ADJ    VERB\n",
      "\n",
      "---------------------------------------------\n",
      "\n",
      "1066 befand sich der  Hof  im Wandel     .\n",
      " NUM   VERB PRON DET NOUN ADP   NOUN PUNCT\n",
      "\n",
      "befand sich  Hof Wandel\n",
      "  VERB PRON NOUN   NOUN\n",
      "\n",
      "---------------------------------------------\n",
      "\n",
      " 106P Ein Wurlitzer 106     ( Knöpfe sind später hinzugefügt worden     )     .\n",
      "PUNCT DET      NOUN NUM PUNCT   NOUN  AUX    ADJ        VERB    AUX PUNCT PUNCT\n",
      "\n",
      "Wurlitzer Knöpfe später hinzugefügt\n",
      "     NOUN   NOUN    ADJ        VERB\n",
      "\n",
      "---------------------------------------------\n",
      "\n",
      "1070 war der  Ort Schauplatz einer Kirchenversammlung     .\n",
      " NUM AUX DET NOUN       NOUN   DET               NOUN PUNCT\n",
      "\n",
      " Ort Schauplatz Kirchenversammlung\n",
      "NOUN       NOUN               NOUN\n",
      "\n",
      "---------------------------------------------\n",
      "\n",
      "1072 wurde Burkhard von Heinrich   IV.\n",
      " NUM   AUX    PROPN ADP    PROPN PROPN\n",
      "\n",
      "Burkhard Heinrich   IV.\n",
      "   PROPN    PROPN PROPN\n",
      "\n",
      "---------------------------------------------\n",
      "\n",
      "1076  kam Miranda    de  Ebro unter Alfons   VI.\n",
      " NUM VERB   PROPN PROPN PROPN   ADP  PROPN PROPN\n",
      "\n",
      " kam Miranda    de  Ebro Alfons   VI.\n",
      "VERB   PROPN PROPN PROPN  PROPN PROPN\n",
      "\n",
      "---------------------------------------------\n",
      "\n",
      "1076  kam  sie unter den Einfluss des Salzburger Erzbischofs     .\n",
      " NUM VERB PRON   ADP DET     NOUN DET        ADJ        NOUN PUNCT\n",
      "\n",
      " kam  sie Einfluss Salzburger Erzbischofs\n",
      "VERB PRON     NOUN        ADJ        NOUN\n",
      "\n",
      "---------------------------------------------\n",
      "\n",
      "1081 wird die Gründung des Klosters urkundlich erwähnt     .\n",
      " NUM  AUX DET     NOUN DET     NOUN        ADJ    VERB PUNCT\n",
      "\n",
      "Gründung Klosters urkundlich erwähnt\n",
      "    NOUN     NOUN        ADJ    VERB\n",
      "\n",
      "---------------------------------------------\n",
      "\n",
      "1082 erhob sich Ermengardes Sohn Bernard  Aton   IV.\n",
      " NUM  VERB PRON       PROPN NOUN   PROPN PROPN PROPN\n",
      "\n",
      "erhob sich Ermengardes Sohn Bernard  Aton   IV.\n",
      " VERB PRON       PROPN NOUN   PROPN PROPN PROPN\n",
      "\n",
      "---------------------------------------------\n",
      "\n",
      "1086 wurde  in Odense König  Knut   IV. der Heilige ermordet     .\n",
      " NUM   AUX ADP  PROPN  NOUN PROPN PROPN DET    NOUN     VERB PUNCT\n",
      "\n",
      "Odense König  Knut   IV. Heilige ermordet\n",
      " PROPN  NOUN PROPN PROPN    NOUN     VERB\n",
      "\n",
      "---------------------------------------------\n",
      "\n",
      "1088 wurde der Name Ravensburg erstmals urkundlich genannt     .\n",
      " NUM   AUX DET NOUN      PROPN      ADV        ADJ    VERB PUNCT\n",
      "\n",
      "Name Ravensburg erstmals urkundlich genannt\n",
      "NOUN      PROPN      ADV        ADJ    VERB\n",
      "\n",
      "---------------------------------------------\n",
      "\n",
      "1094 schenkte   er dem Cäcilienstifte verschiedene Besitzungen  und Einkünfte     .\n",
      " NUM     VERB PRON DET           NOUN          ADJ        NOUN CONJ      NOUN PUNCT\n",
      "\n",
      "schenkte   er Cäcilienstifte verschiedene Besitzungen Einkünfte\n",
      "    VERB PRON           NOUN          ADJ        NOUN      NOUN\n",
      "\n",
      "---------------------------------------------\n",
      "\n",
      "1094 wurde die Burg als     „ castrum Cancingen     “ erwähnt     .\n",
      " NUM   AUX DET NOUN ADP PUNCT       X     PROPN PUNCT    VERB PUNCT\n",
      "\n",
      "Burg Cancingen erwähnt\n",
      "NOUN     PROPN    VERB\n",
      "\n",
      "---------------------------------------------\n",
      "\n"
     ]
    }
   ],
   "source": [
    "filter_pos = {'AUX',\n",
    "              'PUNCT', \n",
    "              'DET', \n",
    "              'ADP', \n",
    "              'X',\n",
    "              'NUM',\n",
    "              'CONJ'}\n",
    "\n",
    "docs = [d for d in nlp.pipe(it.islice(corpus.__iter__(tokens=False), 150)) if len(d.text) < 80 and len(d.text) > 20]\n",
    "\n",
    "for i, doc in enumerate(docs):\n",
    "    try:\n",
    "        tokens = [(str(w).rjust(len(w.pos_)), w.pos_.rjust(len(w))) for w in doc]\n",
    "        words, tags = list(zip(*tokens))\n",
    "    except ValueError:\n",
    "        continue\n",
    "    print(' '.join(words))\n",
    "    print(' '.join(tags))\n",
    "    print()\n",
    "    try:\n",
    "        tokens = [(str(w).rjust(len(w.pos_)), w.pos_.rjust(len(w))) for w in doc if w.pos_ not in filter_pos]\n",
    "        words, tags = list(zip(*tokens))\n",
    "    except ValueError:\n",
    "        continue\n",
    "    print(' '.join(words))\n",
    "    print(' '.join(tags))\n",
    "    print('\\n---------------------------------------------\\n')"
   ]
  },
  {
   "cell_type": "markdown",
   "metadata": {},
   "source": [
    "## Model training"
   ]
  },
  {
   "cell_type": "code",
   "execution_count": null,
   "metadata": {
    "collapsed": true
   },
   "outputs": [],
   "source": [
    "import gensim"
   ]
  },
  {
   "cell_type": "code",
   "execution_count": 301,
   "metadata": {
    "collapsed": false
   },
   "outputs": [
    {
     "name": "stdout",
     "output_type": "stream",
     "text": [
      "CPU times: user 1h 3min 12s, sys: 13 s, total: 1h 3min 25s\n",
      "Wall time: 55min 53s\n"
     ]
    }
   ],
   "source": [
    "%%time\n",
    "model = gensim.models.word2vec.Word2Vec(corpus)"
   ]
  },
  {
   "cell_type": "code",
   "execution_count": 303,
   "metadata": {
    "collapsed": false
   },
   "outputs": [],
   "source": [
    "model.save('models/3M')\n",
    "posmodel.save('models/3M_pos')"
   ]
  },
  {
   "cell_type": "code",
   "execution_count": 302,
   "metadata": {
    "collapsed": false
   },
   "outputs": [
    {
     "name": "stdout",
     "output_type": "stream",
     "text": [
      "CPU times: user 28min 37s, sys: 18min 25s, total: 47min 3s\n",
      "Wall time: 54min 10s\n"
     ]
    }
   ],
   "source": [
    "%%time\n",
    "posmodel = gensim.models.word2vec.Word2Vec(pos_corpus)"
   ]
  },
  {
   "cell_type": "code",
   "execution_count": 340,
   "metadata": {
    "collapsed": false
   },
   "outputs": [],
   "source": [
    "acc = model2.accuracy('evaluation/bestmatch-questions.txt', case_insensitive=False)\n",
    "posacc = posmodel.accuracy('evaluation/bestmatch-questions.txt', case_insensitive=False)"
   ]
  },
  {
   "cell_type": "code",
   "execution_count": 337,
   "metadata": {
    "collapsed": false
   },
   "outputs": [],
   "source": [
    "def acc_summary(section, correct, incorrect):\n",
    "    return {\n",
    "        'name': section,\n",
    "        'questions': len(correct) + len(incorrect),\n",
    "        'accuracy': round(len(correct) / (len(correct) + len(incorrect)), 2)\n",
    "    }\n",
    "\n",
    "results = [acc_summary(**s) for s in acc]\n",
    "posresults = [acc_summary(**s) for s in acc]"
   ]
  },
  {
   "cell_type": "code",
   "execution_count": 476,
   "metadata": {
    "collapsed": false
   },
   "outputs": [
    {
     "data": {
      "text/plain": [
       "[{'accuracy': 0.0, 'name': 'Land-Währung', 'questions': 3},\n",
       " {'accuracy': 0.0, 'name': 'Hauptstad-Land', 'questions': 28},\n",
       " {'accuracy': 0.0, 'name': 'Land-Kontinent', 'questions': 28},\n",
       " {'accuracy': 0.0, 'name': 'Land-Sprache', 'questions': 1},\n",
       " {'accuracy': 0.0, 'name': 'Geschlecht', 'questions': 28},\n",
       " {'accuracy': 0.0, 'name': 'Gegenteil', 'questions': 115},\n",
       " {'accuracy': 0.0, 'name': 'total', 'questions': 203}]"
      ]
     },
     "execution_count": 476,
     "metadata": {},
     "output_type": "execute_result"
    }
   ],
   "source": [
    "results"
   ]
  },
  {
   "cell_type": "code",
   "execution_count": 382,
   "metadata": {
    "collapsed": false
   },
   "outputs": [],
   "source": [
    "from collections import defaultdict\n",
    "from pprint import pprint\n",
    "\n",
    "def sections(path):\n",
    "    sections = defaultdict(list)\n",
    "    with open(path) as f:\n",
    "        for l in f:\n",
    "            l = l.strip()\n",
    "            if l.startswith(':'):\n",
    "                sec = l[2:]\n",
    "            else:\n",
    "                sections[sec].append(l.split(' '))\n",
    "    return sections\n",
    "\n",
    "def accuracy(model, path, topn=10):\n",
    "    secs = sections(path)\n",
    "    results = {}\n",
    "    for sname, questions in secs.items():\n",
    "        secsims = []\n",
    "        for man, king, woman, queen in questions: \n",
    "            sims = model.most_similar(positive=[king, woman], negative=[man], topn=10)\n",
    "            sims = [sim for word, sim in sims if word == queen]\n",
    "            secsims.append(sims[0] if sims else 0)\n",
    "        results[sname] = sum(secsims) / len(secsims)\n",
    "    return results"
   ]
  },
  {
   "cell_type": "code",
   "execution_count": 415,
   "metadata": {
    "collapsed": false
   },
   "outputs": [],
   "source": [
    "acc = accuracy(model, 'evaluation/bestmatch-questions.txt')\n",
    "accdf = pd.DataFrame.from_records(list(acc.items()), columns=['Category', 'Accuracy'])\n",
    "accdf['Model'] = 'Normal'"
   ]
  },
  {
   "cell_type": "code",
   "execution_count": 423,
   "metadata": {
    "collapsed": false
   },
   "outputs": [],
   "source": [
    "posacc = accuracy(posmodel, 'evaluation/bestmatch-questions.txt')\n",
    "posaccdf = pd.DataFrame.from_records(list(posacc.items()), columns=['Category', 'Accuracy'])\n",
    "posaccdf['Model'] = 'W/O POS'"
   ]
  },
  {
   "cell_type": "code",
   "execution_count": 422,
   "metadata": {
    "collapsed": false
   },
   "outputs": [
    {
     "data": {
      "image/png": "[encoded data removed]",
      "text/plain": [
       "<matplotlib.figure.Figure at 0x2ddd24860>"
      ]
     },
     "metadata": {},
     "output_type": "display_data"
    }
   ],
   "source": [
    "%matplotlib inline\n",
    "import seaborn as sns\n",
    "# ax = sns.barplot(x=\"day\", y=\"total_bill\", hue=\"sex\", data=tips)\n",
    "ax = sns.barplot(y=\"Category\", x=\"Accuracy\", hue=\"Model\", data=accdf.append(posaccdf), ci=None)"
   ]
  }
 ],
 "metadata": {
  "kernelspec": {
   "display_name": "Python 3",
   "language": "python",
   "name": "python3"
  },
  "language_info": {
   "codemirror_mode": {
    "name": "ipython",
    "version": 3
   },
   "file_extension": ".py",
   "mimetype": "text/x-python",
   "name": "python",
   "nbconvert_exporter": "python",
   "pygments_lexer": "ipython3",
   "version": "3.6.0"
  }
 },
 "nbformat": 4,
 "nbformat_minor": 2
}
