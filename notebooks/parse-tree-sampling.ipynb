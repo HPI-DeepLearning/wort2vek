{
 "cells": [
  {
   "cell_type": "code",
   "execution_count": 14,
   "metadata": {
    "collapsed": true
   },
   "outputs": [],
   "source": [
    "import sys\n",
    "import spacy\n",
    "from collections import deque, OrderedDict\n",
    "from tqdm import tqdm\n",
    "import itertools as it\n",
    "from random import random\n",
    "from tabulate import tabulate\n",
    "import matplotlib\n",
    "# import matplotlib.pyplot as plt\n",
    "%matplotlib inline\n",
    "plt = matplotlib.pyplot"
   ]
  },
  {
   "cell_type": "code",
   "execution_count": 5,
   "metadata": {
    "collapsed": true
   },
   "outputs": [],
   "source": [
    "LANG = 'de'\n",
    "BATCH_SIZE = 10000\n",
    "N_THREADS = 4\n",
    "\n",
    "MAX_LEVEL = 2\n",
    "\n",
    "sentence = \"Ist der neue Fernseher, den ich gestern bestellt habe, schon angekommen?\""
   ]
  },
  {
   "cell_type": "code",
   "execution_count": 6,
   "metadata": {
    "collapsed": false
   },
   "outputs": [],
   "source": [
    "nlp = spacy.load(LANG, vectors=False)"
   ]
  },
  {
   "cell_type": "code",
   "execution_count": 7,
   "metadata": {
    "collapsed": true
   },
   "outputs": [],
   "source": [
    "from nltk import Tree\n",
    "\n",
    "def nodestring(node):\n",
    "    return node.orth_ + '_' + node.pos_\n",
    "\n",
    "def to_nltk_tree(node):\n",
    "    if node.n_lefts + node.n_rights > 0:\n",
    "        return Tree(nodestring(node), [to_nltk_tree(child) for child in node.children])\n",
    "    else:\n",
    "        return nodestring(node)\n",
    "    \n",
    "def print_tree(doc):\n",
    "    for sent in doc.sents:\n",
    "        to_nltk_tree(sent.root).pretty_print()"
   ]
  },
  {
   "cell_type": "code",
   "execution_count": 33,
   "metadata": {
    "collapsed": false
   },
   "outputs": [],
   "source": [
    "def hmean(*values):\n",
    "    return len(values) / sum(1 / x for x in values)\n",
    "\n",
    "pos_high_p = set(['VERB', 'NOUN'])\n",
    "pos_middle_p = set(['ADV', 'PPER', 'ADJ'])\n",
    "\n",
    "def pos_p(pos):\n",
    "    if pos in pos_high_p:\n",
    "        return 0.8\n",
    "    elif pos in pos_middle_p:\n",
    "        return 0.6\n",
    "    else:\n",
    "        return 0.4\n",
    "    \n",
    "def should_sample(word, level, debug):\n",
    "    level_prob = 1 / level\n",
    "    pos_prob = level_prob\n",
    "    prob = hmean(level_prob, pos_prob)\n",
    "    if debug:\n",
    "        return word.text, prob\n",
    "    else:\n",
    "        return random() < prob\n",
    "\n",
    "def sample_context(word, debug):\n",
    "    candidates = deque()\n",
    "    seen = set([word])\n",
    "\n",
    "    def add_to_queue(word, level):\n",
    "        for w in it.chain(word.children, [word.head]):\n",
    "            if not w in seen:\n",
    "                seen.add(w)\n",
    "                candidates.append((level, w))\n",
    "\n",
    "    add_to_queue(word, 1)\n",
    "    while candidates:\n",
    "        level, candidate = candidates.popleft()\n",
    "        if debug:\n",
    "            yield should_sample(candidate, level, debug=True)\n",
    "        else:\n",
    "            if should_sample(candidate, level, debug=False):\n",
    "                yield candidate\n",
    "        if level < MAX_LEVEL:\n",
    "            add_to_queue(candidate, level + 1)\n",
    "\n",
    "def doc2pairs(doc, debug=False):\n",
    "    print_tree(doc)\n",
    "    if not debug:\n",
    "        for word in doc:\n",
    "            for ctx in sample_context(word, debug):\n",
    "                yield (word.text, ctx.text)\n",
    "    else:\n",
    "        for word in doc:\n",
    "            yield (word.text, list(sample_context(word, debug)))\n",
    "            \n",
    "def print_sent_probs(sentence, word):\n",
    "    doc = nlp(sentence)\n",
    "    probs = list(doc2pairs(doc, debug=True))\n",
    "    prob_dict = dict((word, dict(ps))for word, ps in probs)\n",
    "    word_probs = prob_dict[word]\n",
    "    words = [word.text for word in doc]\n",
    "    probs = [word_probs[word] if word in word_probs else 0 for word in words]\n",
    "    prob_strings = [\"{:.2f}\".format(p) for p in probs]\n",
    "    print(tabulate([words, prob_strings]))\n",
    "    D = OrderedDict(reversed(list(zip(words, probs))))\n",
    "    plt.barh(range(len(D)), D.values(), align='center')\n",
    "    plt.yticks(range(len(D)), list(D.keys()))\n",
    "    plt.show()\n",
    "    \n",
    "def print_pairs(sentence):\n",
    "    doc = nlp(sentence)\n",
    "    pairs = doc2pairs(doc, debug=False)\n",
    "    for word, ctx in pairs:\n",
    "        print(word, ctx)\n",
    "        "
   ]
  },
  {
   "cell_type": "code",
   "execution_count": 34,
   "metadata": {
    "collapsed": false
   },
   "outputs": [
    {
     "name": "stdout",
     "output_type": "stream",
     "text": [
      "                                    Ist_AUX                                                                \n",
      "    ___________________________________|___________________________________________________________         \n",
      "   |       |                     Fernseher_NOUN                                                    |       \n",
      "   |       |        ___________________|____________________                                       |        \n",
      "   |       |       |       |           |                 habe_AUX                                  |       \n",
      "   |       |       |       |           |            ________|___________                           |        \n",
      "   |       |       |       |           |           |              bestellt_VERB             angekommen_VERB\n",
      "   |       |       |       |           |           |         ___________|____________              |        \n",
      ",_PUNCT ?_PUNCT der_DET neue_ADJ    ,_PUNCT     ich_PRON den_PRON               gestern_ADV    schon_ADV   \n",
      "\n",
      "Ist Fernseher\n",
      "Ist ,\n",
      "Ist angekommen\n",
      "Ist ?\n",
      "Ist ,\n",
      "Ist habe\n",
      "der Fernseher\n",
      "der neue\n",
      "der habe\n",
      "neue Fernseher\n",
      "neue der\n",
      "neue habe\n",
      "neue Ist\n",
      "Fernseher der\n",
      "Fernseher neue\n",
      "Fernseher ,\n",
      "Fernseher habe\n",
      "Fernseher Ist\n",
      "Fernseher ich\n",
      "Fernseher ,\n",
      "Fernseher ?\n",
      ", Fernseher\n",
      ", neue\n",
      "den bestellt\n",
      "den habe\n",
      "ich habe\n",
      "ich bestellt\n",
      "gestern bestellt\n",
      "bestellt den\n",
      "bestellt gestern\n",
      "bestellt habe\n",
      "bestellt ich\n",
      "bestellt Fernseher\n",
      "habe ich\n",
      "habe bestellt\n",
      "habe Fernseher\n",
      "habe den\n",
      "habe der\n",
      "habe neue\n",
      "habe ,\n",
      "habe Ist\n",
      ", Ist\n",
      ", Fernseher\n",
      ", angekommen\n",
      "schon angekommen\n",
      "schon Ist\n",
      "angekommen schon\n",
      "angekommen Ist\n",
      "angekommen Fernseher\n",
      "angekommen ,\n",
      "angekommen ?\n",
      "? Ist\n",
      "? Fernseher\n",
      "? ,\n",
      "? angekommen\n"
     ]
    }
   ],
   "source": [
    "print_pairs(sentence)"
   ]
  },
  {
   "cell_type": "code",
   "execution_count": 35,
   "metadata": {
    "collapsed": false,
    "scrolled": false
   },
   "outputs": [
    {
     "name": "stdout",
     "output_type": "stream",
     "text": [
      "Ist der neue Fernseher, den ich gestern bestellt habe, schon angekommen?\n",
      "                                    Ist_AUX                                                                \n",
      "    ___________________________________|___________________________________________________________         \n",
      "   |       |                     Fernseher_NOUN                                                    |       \n",
      "   |       |        ___________________|____________________                                       |        \n",
      "   |       |       |       |           |                 habe_AUX                                  |       \n",
      "   |       |       |       |           |            ________|___________                           |        \n",
      "   |       |       |       |           |           |              bestellt_VERB             angekommen_VERB\n",
      "   |       |       |       |           |           |         ___________|____________              |        \n",
      ",_PUNCT ?_PUNCT der_DET neue_ADJ    ,_PUNCT     ich_PRON den_PRON               gestern_ADV    schon_ADV   \n",
      "\n",
      "----  ----  ----  ---------  ----  ----  ----  -------  --------  ----  ----  -----  ----------  ----\n",
      "Ist   der   neue  Fernseher  ,     den   ich   gestern  bestellt  habe  ,     schon  angekommen  ?\n",
      "0.50  0.00  0.50  1.00       0.50  0.00  0.00  0.00     0.00      0.50  0.50  0.00   0.00        0.00\n",
      "----  ----  ----  ---------  ----  ----  ----  -------  --------  ----  ----  -----  ----------  ----\n"
     ]
    },
    {
     "data": {
      "image/png": "[encoded data removed]",
      "text/plain": [
       "<matplotlib.figure.Figure at 0x110296fd0>"
      ]
     },
     "metadata": {},
     "output_type": "display_data"
    }
   ],
   "source": [
    "print(sentence)\n",
    "print_sent_probs(sentence, 'der')"
   ]
  }
 ],
 "metadata": {
  "kernelspec": {
   "display_name": "Python 3",
   "language": "python",
   "name": "python3"
  },
  "language_info": {
   "codemirror_mode": {
    "name": "ipython",
    "version": 3
   },
   "file_extension": ".py",
   "mimetype": "text/x-python",
   "name": "python",
   "nbconvert_exporter": "python",
   "pygments_lexer": "ipython3",
   "version": "3.5.2"
  }
 },
 "nbformat": 4,
 "nbformat_minor": 0
}
